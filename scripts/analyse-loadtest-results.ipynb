{
 "cells": [
  {
   "cell_type": "markdown",
   "metadata": {},
   "source": [
    "# Analyse results from simple load test\n",
    "\n",
    "Make some basic sanity plots from the results produced by running `python scripts/load-test.py fboylu/binder --n-launches 20 --filepath=00_DevelopModel.ipynb`"
   ]
  },
  {
   "cell_type": "code",
   "execution_count": 1,
   "metadata": {},
   "outputs": [],
   "source": [
    "%matplotlib inline\n",
    "import matplotlib.pyplot as plt"
   ]
  },
  {
   "cell_type": "code",
   "execution_count": 2,
   "metadata": {},
   "outputs": [],
   "source": [
    "import pandas as pd\n",
    "\n",
    "import pickle"
   ]
  },
  {
   "cell_type": "code",
   "execution_count": 3,
   "metadata": {},
   "outputs": [],
   "source": [
    "with open('../results.pkl', 'rb') as f:\n",
    "    data = pickle.load(f)\n",
    "    records = data['results']\n",
    "    gun_time = data['gun_time']"
   ]
  },
  {
   "cell_type": "code",
   "execution_count": 4,
   "metadata": {},
   "outputs": [],
   "source": [
    "df = pd.DataFrame.from_records(records, index='idx')"
   ]
  },
  {
   "cell_type": "code",
   "execution_count": 5,
   "metadata": {},
   "outputs": [
    {
     "data": {
      "text/html": [
       "<div>\n",
       "<style scoped>\n",
       "    .dataframe tbody tr th:only-of-type {\n",
       "        vertical-align: middle;\n",
       "    }\n",
       "\n",
       "    .dataframe tbody tr th {\n",
       "        vertical-align: top;\n",
       "    }\n",
       "\n",
       "    .dataframe thead th {\n",
       "        text-align: right;\n",
       "    }\n",
       "</style>\n",
       "<table border=\"1\" class=\"dataframe\">\n",
       "  <thead>\n",
       "    <tr style=\"text-align: right;\">\n",
       "      <th></th>\n",
       "      <th>end</th>\n",
       "      <th>kernel</th>\n",
       "      <th>notebook</th>\n",
       "      <th>ready</th>\n",
       "      <th>start</th>\n",
       "      <th>status</th>\n",
       "      <th>widgets</th>\n",
       "    </tr>\n",
       "    <tr>\n",
       "      <th>idx</th>\n",
       "      <th></th>\n",
       "      <th></th>\n",
       "      <th></th>\n",
       "      <th></th>\n",
       "      <th></th>\n",
       "      <th></th>\n",
       "      <th></th>\n",
       "    </tr>\n",
       "  </thead>\n",
       "  <tbody>\n",
       "    <tr>\n",
       "      <th>1</th>\n",
       "      <td>1.530828e+09</td>\n",
       "      <td>1.530828e+09</td>\n",
       "      <td>1.530828e+09</td>\n",
       "      <td>1.530828e+09</td>\n",
       "      <td>1.530828e+09</td>\n",
       "      <td>success</td>\n",
       "      <td>1.530828e+09</td>\n",
       "    </tr>\n",
       "    <tr>\n",
       "      <th>4</th>\n",
       "      <td>1.530828e+09</td>\n",
       "      <td>1.530828e+09</td>\n",
       "      <td>1.530828e+09</td>\n",
       "      <td>1.530828e+09</td>\n",
       "      <td>1.530828e+09</td>\n",
       "      <td>success</td>\n",
       "      <td>1.530828e+09</td>\n",
       "    </tr>\n",
       "    <tr>\n",
       "      <th>0</th>\n",
       "      <td>1.530828e+09</td>\n",
       "      <td>1.530828e+09</td>\n",
       "      <td>1.530828e+09</td>\n",
       "      <td>1.530828e+09</td>\n",
       "      <td>1.530828e+09</td>\n",
       "      <td>success</td>\n",
       "      <td>1.530828e+09</td>\n",
       "    </tr>\n",
       "    <tr>\n",
       "      <th>7</th>\n",
       "      <td>1.530828e+09</td>\n",
       "      <td>1.530828e+09</td>\n",
       "      <td>1.530828e+09</td>\n",
       "      <td>1.530828e+09</td>\n",
       "      <td>1.530828e+09</td>\n",
       "      <td>success</td>\n",
       "      <td>1.530828e+09</td>\n",
       "    </tr>\n",
       "    <tr>\n",
       "      <th>2</th>\n",
       "      <td>1.530828e+09</td>\n",
       "      <td>1.530828e+09</td>\n",
       "      <td>1.530828e+09</td>\n",
       "      <td>1.530828e+09</td>\n",
       "      <td>1.530828e+09</td>\n",
       "      <td>success</td>\n",
       "      <td>1.530828e+09</td>\n",
       "    </tr>\n",
       "  </tbody>\n",
       "</table>\n",
       "</div>"
      ],
      "text/plain": [
       "              end        kernel      notebook         ready         start  \\\n",
       "idx                                                                         \n",
       "1    1.530828e+09  1.530828e+09  1.530828e+09  1.530828e+09  1.530828e+09   \n",
       "4    1.530828e+09  1.530828e+09  1.530828e+09  1.530828e+09  1.530828e+09   \n",
       "0    1.530828e+09  1.530828e+09  1.530828e+09  1.530828e+09  1.530828e+09   \n",
       "7    1.530828e+09  1.530828e+09  1.530828e+09  1.530828e+09  1.530828e+09   \n",
       "2    1.530828e+09  1.530828e+09  1.530828e+09  1.530828e+09  1.530828e+09   \n",
       "\n",
       "      status       widgets  \n",
       "idx                         \n",
       "1    success  1.530828e+09  \n",
       "4    success  1.530828e+09  \n",
       "0    success  1.530828e+09  \n",
       "7    success  1.530828e+09  \n",
       "2    success  1.530828e+09  "
      ]
     },
     "execution_count": 5,
     "metadata": {},
     "output_type": "execute_result"
    }
   ],
   "source": [
    "df.head()"
   ]
  },
  {
   "cell_type": "code",
   "execution_count": 6,
   "metadata": {},
   "outputs": [],
   "source": [
    "# time for successful launches\n",
    "df_sucess = df[df.status == 'success']"
   ]
  },
  {
   "cell_type": "code",
   "execution_count": 7,
   "metadata": {},
   "outputs": [],
   "source": [
    "df_sucess['total'] = df['end'] - df['start']"
   ]
  },
  {
   "cell_type": "code",
   "execution_count": 8,
   "metadata": {},
   "outputs": [
    {
     "data": {
      "image/png": "[encoded data removed]",
      "text/plain": [
       "<matplotlib.figure.Figure at 0x11729a550>"
      ]
     },
     "metadata": {},
     "output_type": "display_data"
    }
   ],
   "source": [
    "# launch times\n",
    "plt.hist(df_sucess.total, range=(0, 20), bins=20);"
   ]
  },
  {
   "cell_type": "code",
   "execution_count": 9,
   "metadata": {},
   "outputs": [],
   "source": [
    "from collections import Counter"
   ]
  },
  {
   "cell_type": "code",
   "execution_count": 10,
   "metadata": {},
   "outputs": [
    {
     "data": {
      "text/plain": [
       "Counter({'success': 20})"
      ]
     },
     "execution_count": 10,
     "metadata": {},
     "output_type": "execute_result"
    }
   ],
   "source": [
    "# how many failures?\n",
    "Counter(df['status'])"
   ]
  },
  {
   "cell_type": "code",
   "execution_count": 11,
   "metadata": {},
   "outputs": [
    {
     "data": {
      "image/png": "[encoded data removed]",
      "text/plain": [
       "<matplotlib.figure.Figure at 0x1199a2c50>"
      ]
     },
     "metadata": {},
     "output_type": "display_data"
    }
   ],
   "source": [
    "# launch delays/spread, should be between 0 and 10s\n",
    "plt.hist(df['start'] - gun_time, bins=20, range=(0,10));"
   ]
  },
  {
   "cell_type": "code",
   "execution_count": null,
   "metadata": {},
   "outputs": [],
   "source": []
  }
 ],
 "metadata": {
  "kernelspec": {
   "display_name": "Python 3",
   "language": "python",
   "name": "python3"
  },
  "language_info": {
   "codemirror_mode": {
    "name": "ipython",
    "version": 3
   },
   "file_extension": ".py",
   "mimetype": "text/x-python",
   "name": "python",
   "nbconvert_exporter": "python",
   "pygments_lexer": "ipython3",
   "version": "3.6.2"
  }
 },
 "nbformat": 4,
 "nbformat_minor": 2
}
