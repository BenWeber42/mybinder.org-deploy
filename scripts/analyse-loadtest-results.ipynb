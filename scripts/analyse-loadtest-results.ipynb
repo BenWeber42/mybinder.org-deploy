{
 "cells": [
  {
   "cell_type": "markdown",
   "metadata": {},
   "source": [
    "# Analyse results from simple load test\n",
    "\n",
    "Make some basic sanity plots from the results produced by running `python scripts/load-test.py fboylu/binder --n-launches 20 --filepath=00_DevelopModel.ipynb`"
   ]
  },
  {
   "cell_type": "code",
   "execution_count": 1,
   "metadata": {},
   "outputs": [],
   "source": [
    "%matplotlib inline\n",
    "import matplotlib.pyplot as plt"
   ]
  },
  {
   "cell_type": "code",
   "execution_count": 2,
   "metadata": {},
   "outputs": [],
   "source": [
    "import pandas as pd\n",
    "\n",
    "import json"
   ]
  },
  {
   "cell_type": "code",
   "execution_count": 3,
   "metadata": {},
   "outputs": [],
   "source": [
    "def load_results(fname, index_offset=0):\n",
    "    with open(fname) as f:\n",
    "        data = json.load(f)\n",
    "        records = data['results']\n",
    "        gun_time = data['gun_time']\n",
    "        \n",
    "    df = pd.DataFrame.from_records(records)\n",
    "    df['idx'] += index_offset\n",
    "    df = df.set_index('idx')\n",
    "    df['total'] = df['end'] - df['start']\n",
    "    df['launch_delay'] = df['start'] - gun_time\n",
    "    \n",
    "    for v in ('ready', 'start', 'notebook', 'kernel', 'end', 'widgets'):\n",
    "        df[v] = df[v] - gun_time\n",
    "    \n",
    "    return df"
   ]
  },
  {
   "cell_type": "code",
   "execution_count": 4,
   "metadata": {},
   "outputs": [],
   "source": [
    "df1 = load_results('../fboylu-binder-1.json')\n",
    "df2 = load_results('../fboylu-binder-2.json', index_offset=100)"
   ]
  },
  {
   "cell_type": "code",
   "execution_count": 5,
   "metadata": {},
   "outputs": [
    {
     "data": {
      "text/html": [
       "<div>\n",
       "<style scoped>\n",
       "    .dataframe tbody tr th:only-of-type {\n",
       "        vertical-align: middle;\n",
       "    }\n",
       "\n",
       "    .dataframe tbody tr th {\n",
       "        vertical-align: top;\n",
       "    }\n",
       "\n",
       "    .dataframe thead th {\n",
       "        text-align: right;\n",
       "    }\n",
       "</style>\n",
       "<table border=\"1\" class=\"dataframe\">\n",
       "  <thead>\n",
       "    <tr style=\"text-align: right;\">\n",
       "      <th></th>\n",
       "      <th>end</th>\n",
       "      <th>kernel</th>\n",
       "      <th>notebook</th>\n",
       "      <th>ready</th>\n",
       "      <th>start</th>\n",
       "      <th>status</th>\n",
       "      <th>total_bytes</th>\n",
       "      <th>widgets</th>\n",
       "      <th>total</th>\n",
       "      <th>launch_delay</th>\n",
       "    </tr>\n",
       "    <tr>\n",
       "      <th>idx</th>\n",
       "      <th></th>\n",
       "      <th></th>\n",
       "      <th></th>\n",
       "      <th></th>\n",
       "      <th></th>\n",
       "      <th></th>\n",
       "      <th></th>\n",
       "      <th></th>\n",
       "      <th></th>\n",
       "      <th></th>\n",
       "    </tr>\n",
       "  </thead>\n",
       "  <tbody>\n",
       "    <tr>\n",
       "      <th>23</th>\n",
       "      <td>9.279899</td>\n",
       "      <td>7.643802</td>\n",
       "      <td>7.407082</td>\n",
       "      <td>6.548136</td>\n",
       "      <td>0.021805</td>\n",
       "      <td>success</td>\n",
       "      <td>2449769</td>\n",
       "      <td>9.279895</td>\n",
       "      <td>9.258094</td>\n",
       "      <td>0.021805</td>\n",
       "    </tr>\n",
       "    <tr>\n",
       "      <th>54</th>\n",
       "      <td>10.664213</td>\n",
       "      <td>9.749083</td>\n",
       "      <td>9.505755</td>\n",
       "      <td>8.737244</td>\n",
       "      <td>0.135465</td>\n",
       "      <td>success</td>\n",
       "      <td>2449769</td>\n",
       "      <td>10.664210</td>\n",
       "      <td>10.528748</td>\n",
       "      <td>0.135465</td>\n",
       "    </tr>\n",
       "    <tr>\n",
       "      <th>15</th>\n",
       "      <td>13.185988</td>\n",
       "      <td>11.545607</td>\n",
       "      <td>11.306930</td>\n",
       "      <td>10.529509</td>\n",
       "      <td>0.232482</td>\n",
       "      <td>success</td>\n",
       "      <td>2449769</td>\n",
       "      <td>13.185984</td>\n",
       "      <td>12.953506</td>\n",
       "      <td>0.232482</td>\n",
       "    </tr>\n",
       "    <tr>\n",
       "      <th>3</th>\n",
       "      <td>15.874406</td>\n",
       "      <td>14.945136</td>\n",
       "      <td>14.707718</td>\n",
       "      <td>13.951589</td>\n",
       "      <td>0.212674</td>\n",
       "      <td>success</td>\n",
       "      <td>2449769</td>\n",
       "      <td>15.874402</td>\n",
       "      <td>15.661732</td>\n",
       "      <td>0.212674</td>\n",
       "    </tr>\n",
       "    <tr>\n",
       "      <th>19</th>\n",
       "      <td>17.006349</td>\n",
       "      <td>12.558490</td>\n",
       "      <td>12.323344</td>\n",
       "      <td>11.059028</td>\n",
       "      <td>0.131759</td>\n",
       "      <td>success</td>\n",
       "      <td>2449769</td>\n",
       "      <td>17.006345</td>\n",
       "      <td>16.874590</td>\n",
       "      <td>0.131759</td>\n",
       "    </tr>\n",
       "  </tbody>\n",
       "</table>\n",
       "</div>"
      ],
      "text/plain": [
       "           end     kernel   notebook      ready     start   status  \\\n",
       "idx                                                                  \n",
       "23    9.279899   7.643802   7.407082   6.548136  0.021805  success   \n",
       "54   10.664213   9.749083   9.505755   8.737244  0.135465  success   \n",
       "15   13.185988  11.545607  11.306930  10.529509  0.232482  success   \n",
       "3    15.874406  14.945136  14.707718  13.951589  0.212674  success   \n",
       "19   17.006349  12.558490  12.323344  11.059028  0.131759  success   \n",
       "\n",
       "     total_bytes    widgets      total  launch_delay  \n",
       "idx                                                   \n",
       "23       2449769   9.279895   9.258094      0.021805  \n",
       "54       2449769  10.664210  10.528748      0.135465  \n",
       "15       2449769  13.185984  12.953506      0.232482  \n",
       "3        2449769  15.874402  15.661732      0.212674  \n",
       "19       2449769  17.006345  16.874590      0.131759  "
      ]
     },
     "execution_count": 5,
     "metadata": {},
     "output_type": "execute_result"
    }
   ],
   "source": [
    "df1.head()"
   ]
  },
  {
   "cell_type": "code",
   "execution_count": 6,
   "metadata": {},
   "outputs": [
    {
     "data": {
      "text/html": [
       "<div>\n",
       "<style scoped>\n",
       "    .dataframe tbody tr th:only-of-type {\n",
       "        vertical-align: middle;\n",
       "    }\n",
       "\n",
       "    .dataframe tbody tr th {\n",
       "        vertical-align: top;\n",
       "    }\n",
       "\n",
       "    .dataframe thead th {\n",
       "        text-align: right;\n",
       "    }\n",
       "</style>\n",
       "<table border=\"1\" class=\"dataframe\">\n",
       "  <thead>\n",
       "    <tr style=\"text-align: right;\">\n",
       "      <th></th>\n",
       "      <th>end</th>\n",
       "      <th>kernel</th>\n",
       "      <th>notebook</th>\n",
       "      <th>ready</th>\n",
       "      <th>start</th>\n",
       "      <th>status</th>\n",
       "      <th>total_bytes</th>\n",
       "      <th>widgets</th>\n",
       "      <th>total</th>\n",
       "      <th>launch_delay</th>\n",
       "    </tr>\n",
       "    <tr>\n",
       "      <th>idx</th>\n",
       "      <th></th>\n",
       "      <th></th>\n",
       "      <th></th>\n",
       "      <th></th>\n",
       "      <th></th>\n",
       "      <th></th>\n",
       "      <th></th>\n",
       "      <th></th>\n",
       "      <th></th>\n",
       "      <th></th>\n",
       "    </tr>\n",
       "  </thead>\n",
       "  <tbody>\n",
       "    <tr>\n",
       "      <th>146</th>\n",
       "      <td>28.130328</td>\n",
       "      <td>27.217426</td>\n",
       "      <td>26.980112</td>\n",
       "      <td>26.239460</td>\n",
       "      <td>0.279890</td>\n",
       "      <td>success</td>\n",
       "      <td>2449793</td>\n",
       "      <td>28.130325</td>\n",
       "      <td>27.850438</td>\n",
       "      <td>0.279890</td>\n",
       "    </tr>\n",
       "    <tr>\n",
       "      <th>152</th>\n",
       "      <td>37.454922</td>\n",
       "      <td>35.819768</td>\n",
       "      <td>35.581183</td>\n",
       "      <td>34.813790</td>\n",
       "      <td>0.595662</td>\n",
       "      <td>success</td>\n",
       "      <td>2449793</td>\n",
       "      <td>37.454918</td>\n",
       "      <td>36.859260</td>\n",
       "      <td>0.595662</td>\n",
       "    </tr>\n",
       "    <tr>\n",
       "      <th>170</th>\n",
       "      <td>42.960398</td>\n",
       "      <td>42.019276</td>\n",
       "      <td>41.786772</td>\n",
       "      <td>41.045297</td>\n",
       "      <td>0.998871</td>\n",
       "      <td>success</td>\n",
       "      <td>2449793</td>\n",
       "      <td>42.960395</td>\n",
       "      <td>41.961527</td>\n",
       "      <td>0.998871</td>\n",
       "    </tr>\n",
       "    <tr>\n",
       "      <th>137</th>\n",
       "      <td>48.698492</td>\n",
       "      <td>45.278426</td>\n",
       "      <td>45.073511</td>\n",
       "      <td>44.279275</td>\n",
       "      <td>1.053715</td>\n",
       "      <td>success</td>\n",
       "      <td>2449793</td>\n",
       "      <td>48.698487</td>\n",
       "      <td>47.644777</td>\n",
       "      <td>1.053715</td>\n",
       "    </tr>\n",
       "    <tr>\n",
       "      <th>154</th>\n",
       "      <td>55.278682</td>\n",
       "      <td>53.618322</td>\n",
       "      <td>53.381026</td>\n",
       "      <td>52.586807</td>\n",
       "      <td>1.149169</td>\n",
       "      <td>success</td>\n",
       "      <td>2449793</td>\n",
       "      <td>55.278679</td>\n",
       "      <td>54.129513</td>\n",
       "      <td>1.149169</td>\n",
       "    </tr>\n",
       "  </tbody>\n",
       "</table>\n",
       "</div>"
      ],
      "text/plain": [
       "           end     kernel   notebook      ready     start   status  \\\n",
       "idx                                                                  \n",
       "146  28.130328  27.217426  26.980112  26.239460  0.279890  success   \n",
       "152  37.454922  35.819768  35.581183  34.813790  0.595662  success   \n",
       "170  42.960398  42.019276  41.786772  41.045297  0.998871  success   \n",
       "137  48.698492  45.278426  45.073511  44.279275  1.053715  success   \n",
       "154  55.278682  53.618322  53.381026  52.586807  1.149169  success   \n",
       "\n",
       "     total_bytes    widgets      total  launch_delay  \n",
       "idx                                                   \n",
       "146      2449793  28.130325  27.850438      0.279890  \n",
       "152      2449793  37.454918  36.859260      0.595662  \n",
       "170      2449793  42.960395  41.961527      0.998871  \n",
       "137      2449793  48.698487  47.644777      1.053715  \n",
       "154      2449793  55.278679  54.129513      1.149169  "
      ]
     },
     "execution_count": 6,
     "metadata": {},
     "output_type": "execute_result"
    }
   ],
   "source": [
    "df2.head()"
   ]
  },
  {
   "cell_type": "code",
   "execution_count": 7,
   "metadata": {},
   "outputs": [],
   "source": [
    "df = pd.concat([df1, df2])"
   ]
  },
  {
   "cell_type": "code",
   "execution_count": 8,
   "metadata": {},
   "outputs": [],
   "source": [
    "# time for successful launches\n",
    "df_success = df[df.status == 'success']"
   ]
  },
  {
   "cell_type": "code",
   "execution_count": 9,
   "metadata": {},
   "outputs": [
    {
     "data": {
      "text/plain": [
       "count    198.000000\n",
       "mean     181.989311\n",
       "std      155.828095\n",
       "min        9.258094\n",
       "25%      100.156225\n",
       "50%      138.072722\n",
       "75%      178.971277\n",
       "max      572.825401\n",
       "Name: total, dtype: float64"
      ]
     },
     "execution_count": 9,
     "metadata": {},
     "output_type": "execute_result"
    }
   ],
   "source": [
    "df_success['total'].describe()"
   ]
  },
  {
   "cell_type": "code",
   "execution_count": 10,
   "metadata": {},
   "outputs": [
    {
     "data": {
      "image/png": "[encoded data removed]",
      "text/plain": [
       "<Figure size 432x288 with 1 Axes>"
      ]
     },
     "metadata": {},
     "output_type": "display_data"
    }
   ],
   "source": [
    "# launch duration, time from making first request\n",
    "# to the very end of fetching the widgets JS code\n",
    "plt.hist(df_success.total, range=(0, 1500), bins=150);"
   ]
  },
  {
   "cell_type": "code",
   "execution_count": 11,
   "metadata": {},
   "outputs": [],
   "source": [
    "from collections import Counter"
   ]
  },
  {
   "cell_type": "code",
   "execution_count": 12,
   "metadata": {},
   "outputs": [
    {
     "data": {
      "text/plain": [
       "Counter({'success': 198})"
      ]
     },
     "execution_count": 12,
     "metadata": {},
     "output_type": "execute_result"
    }
   ],
   "source": [
    "# how many failures?\n",
    "Counter(df['status'])"
   ]
  },
  {
   "cell_type": "code",
   "execution_count": 13,
   "metadata": {},
   "outputs": [
    {
     "data": {
      "image/png": "[encoded data removed]",
      "text/plain": [
       "<Figure size 432x288 with 1 Axes>"
      ]
     },
     "metadata": {},
     "output_type": "display_data"
    }
   ],
   "source": [
    "# launch delays/spread, should be between 0 and 10s\n",
    "plt.hist(df['launch_delay'], bins=50, range=(0,50));"
   ]
  },
  {
   "cell_type": "code",
   "execution_count": 18,
   "metadata": {},
   "outputs": [
    {
     "data": {
      "text/plain": [
       "<matplotlib.axes._subplots.AxesSubplot at 0x11380f588>"
      ]
     },
     "execution_count": 18,
     "metadata": {},
     "output_type": "execute_result"
    },
    {
     "data": {
      "image/png": "[encoded data removed]",
      "text/plain": [
       "<Figure size 432x288 with 1 Axes>"
      ]
     },
     "metadata": {},
     "output_type": "display_data"
    }
   ],
   "source": [
    "df[['end', 'ready']].plot(kind='bar')"
   ]
  },
  {
   "cell_type": "code",
   "execution_count": 15,
   "metadata": {},
   "outputs": [],
   "source": [
    "import numpy as np"
   ]
  },
  {
   "cell_type": "code",
   "execution_count": 35,
   "metadata": {},
   "outputs": [
    {
     "data": {
      "text/plain": [
       "<matplotlib.legend.Legend at 0x11bd5fdd8>"
      ]
     },
     "execution_count": 35,
     "metadata": {},
     "output_type": "execute_result"
    },
    {
     "data": {
      "image/png": "[encoded data removed]",
      "text/plain": [
       "<Figure size 2160x720 with 1 Axes>"
      ]
     },
     "metadata": {},
     "output_type": "display_data"
    }
   ],
   "source": [
    "width = 0.3\n",
    "\n",
    "n_bars = 150\n",
    "\n",
    "#data = df[np.random.randint(df.idxmin, df.idxmax, size=10)]\n",
    "data = df.sort_values(by='ready').reset_index()\n",
    "\n",
    "\n",
    "fig, ax = plt.subplots(1,1, figsize=(30, 10))\n",
    "\n",
    "p5 = ax.bar(data.index, data['end'], width)\n",
    "p4 = ax.bar(data.index, data['widgets'], width)\n",
    "p3 = ax.bar(data.index, data['kernel'], width)\n",
    "p2 = ax.bar(data.index, data['notebook'], width)\n",
    "p1 = ax.bar(data.index, data['ready'], width)\n",
    "\n",
    "\n",
    "plt.ylabel('Time')\n",
    "plt.legend((p1[0], p2[0], p3[0], p4[0], p5[0]),\n",
    "           ('Ready', 'Notebook', 'Kernel', 'Widgets', 'End'))"
   ]
  }
 ],
 "metadata": {
  "kernelspec": {
   "display_name": "Python 3",
   "language": "python",
   "name": "python3"
  },
  "language_info": {
   "codemirror_mode": {
    "name": "ipython",
    "version": 3
   },
   "file_extension": ".py",
   "mimetype": "text/x-python",
   "name": "python",
   "nbconvert_exporter": "python",
   "pygments_lexer": "ipython3",
   "version": "3.6.2"
  }
 },
 "nbformat": 4,
 "nbformat_minor": 2
}
